{
 "cells": [
  {
   "cell_type": "code",
   "execution_count": 1,
   "metadata": {
    "scrolled": true
   },
   "outputs": [
    {
     "name": "stdout",
     "output_type": "stream",
     "text": [
      "get briefing statement urls 0 / 2\n",
      "get briefing statement urls 1 / 2\n",
      "get briefing statement urls 2 / 2\n",
      "30 urls for all news\n"
     ]
    }
   ],
   "source": [
    "import time\n",
    "import freedomhouse_scraper\n",
    "from freedomhouse_scraper import get_allblog_urls\n",
    "from freedomhouse_scraper import parse_page_blog\n",
    "\n",
    "blog_urls = get_allblog_urls(begin_page=0, end_page=2, verbose=True)\n",
    "print('%d urls for all news' % len(blog_urls))"
   ]
  },
  {
   "cell_type": "code",
   "execution_count": 2,
   "metadata": {
    "scrolled": true
   },
   "outputs": [
    {
     "name": "stdout",
     "output_type": "stream",
     "text": [
      "title : Elections in Togo: What Happens When the World Isn’t Watching ..\n",
      "time : January 28, 2019 ..\n",
      "content : Aided by weak regional oversight, the president may be getting away with a power grab.\n",
      "With much of  ..\n",
      "url : https://freedomhouse.org/blog/elections-togo-what-happens-when-world-isn-t-watching ..\n",
      "author : by Nick Bailey, Senior Program Associate, Africa ..\n",
      "scrap_time : 2019-01-29 14:40:51 ..\n",
      "\n",
      "\n",
      "title : Has Mirziyoyev Really Brought Religious Liberty to Uzbekistan?  ..\n",
      "time : January 16, 2019 ..\n",
      "content : The president has touted his reform agenda, but religious persecution continues in practice.\n",
      "Since t ..\n",
      "url : https://freedomhouse.org/blog/has-mirziyoyev-really-brought-religious-liberty-uzbekistan ..\n",
      "author : by D.E., Eurasia Researcher ..\n",
      "scrap_time : 2019-01-29 14:40:52 ..\n",
      "\n",
      "\n",
      "title : In Uzbekistan, the Seeds of Reform Are Planted in Social Media ..\n",
      "time : January 10, 2019 ..\n",
      "content : The online mobilization of public opinion is a potential express lane to democratic change.\n",
      "On Septe ..\n",
      "url : https://freedomhouse.org/blog/uzbekistan-seeds-reform-are-planted-social-media ..\n",
      "author : by James Reston, Guest Blogger ..\n",
      "scrap_time : 2019-01-29 14:40:53 ..\n",
      "\n",
      "\n",
      "title : The Western Sahara Dispute Drags On after 27 Years in Limbo ..\n",
      "time : January 9, 2019 ..\n",
      "content : The latest peace talks have made little progress so far, but the territory may be running out of tim ..\n",
      "url : https://freedomhouse.org/blog/western-sahara-dispute-drags-after-27-years-limbo ..\n",
      "author : by Daniel Samet, Guest Blogger ..\n",
      "scrap_time : 2019-01-29 14:40:54 ..\n",
      "\n",
      "\n",
      "title : Now Streaming: Censorship ..\n",
      "time : January 3, 2019 ..\n",
      "content : How should companies like Netflix respond when repressive governments order the removal of critical  ..\n",
      "url : https://freedomhouse.org/blog/now-streaming-censorship ..\n",
      "author : by Allie Funk, Research Analyst, Freedom on the Net ..\n",
      "scrap_time : 2019-01-29 14:40:55 ..\n",
      "\n",
      "\n",
      "title : Political Intrigue Surrounds Presidential Succession Plans in Kenya ..\n",
      "time : December 20, 2018 ..\n",
      "content : A possible plot to subvert term limits could shape the future of democracy in the country.\n",
      "Just what ..\n",
      "url : https://freedomhouse.org/blog/political-intrigue-surrounds-presidential-succession-plans-kenya ..\n",
      "author : by Morris Odhiambo, Project Director for East and Horn of Africa ..\n",
      "scrap_time : 2019-01-29 14:40:55 ..\n",
      "\n",
      "\n",
      "title : The Globalization of Beijing's Media Controls: Key Trends from 2018 ..\n",
      "time : December 19, 2018 ..\n",
      "content : Check out these five key trends in the Chinese Communist Party’s global media campaign, fresh from t ..\n",
      "url : https://freedomhouse.org/blog/globalization-beijings-media-controls-key-trends-2018 ..\n",
      "author : by Sarah Cook, Senior Research Analyst for East Asia ..\n",
      "scrap_time : 2019-01-29 14:40:56 ..\n",
      "\n",
      "\n",
      "title : Can Cuba’s Human Rights Legacy Be Recovered? ..\n",
      "time : December 13, 2018 ..\n",
      "content : The country was not always an implacable foe of human rights on the international stage. \n",
      "Over the p ..\n",
      "url : https://freedomhouse.org/blog/can-cuba-s-human-rights-legacy-be-recovered ..\n",
      "author : by John Suarez, Program Officer, Latin America and the Caribbean ..\n",
      "scrap_time : 2019-01-29 14:40:56 ..\n",
      "\n",
      "\n",
      "title : Germany Prepares for a Post-Merkel Future ..\n",
      "time : December 6, 2018 ..\n",
      "content : Upcoming EU and state elections could determine the country’s new direction.\n",
      "On October 29, German c ..\n",
      "url : https://freedomhouse.org/blog/germany-prepares-post-merkel-future ..\n",
      "author : by ..\n",
      "scrap_time : 2019-01-29 14:40:56 ..\n",
      "\n",
      "\n",
      "title : With New Members, the UN Human Rights Council Goes from Bad to Worse ..\n",
      "time : November 19, 2018 ..\n",
      "content : The body’s membership will now be even less democratic than the world as a whole.\n",
      "The October 12 ele ..\n",
      "url : https://freedomhouse.org/blog/new-members-un-human-rights-council-goes-bad-worse ..\n",
      "author : by ..\n",
      "scrap_time : 2019-01-29 14:41:00 ..\n",
      "\n",
      "\n"
     ]
    }
   ],
   "source": [
    "def pprint(json_object):\n",
    "    for k, v in json_object.items():\n",
    "        print('{} : {} ..'.format(k, str(v)[:100]))\n",
    "    print('\\n')\n",
    "\n",
    "SLEEP = 0.5\n",
    "\n",
    "for url in blog_urls[:10]:\n",
    "    json_object = parse_page_blog(url) \n",
    "    pprint(json_object)"
   ]
  },
  {
   "cell_type": "code",
   "execution_count": 3,
   "metadata": {
    "scrolled": true
   },
   "outputs": [
    {
     "name": "stdout",
     "output_type": "stream",
     "text": [
      "[1 / 50] (January 28, 2019) Elections in Togo: What Happens When the World Isn’t Watching\n",
      "[2 / 50] (January 16, 2019) Has Mirziyoyev Really Brought Religious Liberty to Uzbekistan? \n",
      "[3 / 50] (January 10, 2019) In Uzbekistan, the Seeds of Reform Are Planted in Social Media\n",
      "[4 / 50] (January 9, 2019) The Western Sahara Dispute Drags On after 27 Years in Limbo\n",
      "[5 / 50] (January 3, 2019) Now Streaming: Censorship\n",
      "[6 / 50] (December 20, 2018) Political Intrigue Surrounds Presidential Succession Plans in Kenya\n",
      "[7 / 50] (December 19, 2018) The Globalization of Beijing's Media Controls: Key Trends from 2018\n",
      "[8 / 50] (December 13, 2018) Can Cuba’s Human Rights Legacy Be Recovered?\n",
      "[9 / 50] (December 6, 2018) Germany Prepares for a Post-Merkel Future\n",
      "[10 / 50] (November 19, 2018) With New Members, the UN Human Rights Council Goes from Bad to Worse\n",
      "[11 / 50] (November 15, 2018) Sri Lanka’s Democracy Hangs in the Balance after ‘Coup Attempt’\n",
      "[12 / 50] (November 13, 2018) Nigeria Heads for Elections in February, but Governance Is the Real Challenge\n",
      "[13 / 50] (November 7, 2018) A Grim Reality for Internet Freedom in Asia\n",
      "[14 / 50] (November 1, 2018) Amid U.S.-China Tension, Beijing’s Propaganda Machine Charges On\n",
      "[15 / 50] (October 25, 2018) A Saudi Shia Woman Faces Death for Her Activism\n",
      "[16 / 50] (October 24, 2018) Are Brazilians Ready to Bet on Bolsonaro?\n",
      "[17 / 50] (October 23, 2018) Cameroon’s Aging Leader Seizes Another Seven-Year Term\n",
      "[18 / 50] (October 17, 2018) Violence against Journalists Is a Transnational Enterprise\n",
      "[19 / 50] (October 4, 2018) Foreign Policy Gains Will Not Erase Public Distrust in Macedonia\n",
      "[20 / 50] (September 27, 2018) Is the Beijing Exception Finally Crumbling?\n",
      "[21 / 50] (September 20, 2018) Montenegro, an EU Accession Front-Runner, Moves Backward on Media Freedom\n",
      "[22 / 50] (September 11, 2018) Nicaragua’s New Terrorism Law Is Aimed at Protesters\n",
      "[23 / 50] (September 11, 2018) Nueva Ley Anti-Terrorismo de Nicaragua Está Dirigida Hacia los Manifestantes \n",
      "[24 / 50] (September 10, 2018) Q&A: Populist Gains in the Swedish Elections\n",
      "[25 / 50] (September 5, 2018) Romania’s Attack on the Rule of Law Is Personal, Not Ideological\n",
      "[26 / 50] (September 4, 2018) As Elections Near, Bosnia’s Fractured Media May Do More Harm Than Good\n",
      "[27 / 50] (August 30, 2018) Occupied Crimea: Victims and Oppressors\n",
      "[28 / 50] (August 23, 2018) Fifty Years On, the Challenges of 1968 Linger\n",
      "[29 / 50] (August 22, 2018) In Algeria, an Islamist Threat Still Looms over Domestic Politics\n",
      "[30 / 50] (August 17, 2018) How Lies about History Threaten Democracy Today\n",
      "[31 / 50] (August 16, 2018) How India’s Assam Register Is Weaponizing Citizenship\n",
      "[32 / 50] (August 6, 2018) Iraqi Kurdistan’s Upcoming Elections Could Deliver a Shock to the Middle East\n",
      "[33 / 50] (July 26, 2018) China: The Global Leader in Political Prisoners\n",
      "[34 / 50] (July 24, 2018) Colombia’s FARC Faces a Complex Path from Insurgency to Politics\n",
      "[35 / 50] (July 18, 2018) Putin's Steering-Wheel Problem\n",
      "[36 / 50] (July 17, 2018) No More Excuses for Eritrea\n",
      "[37 / 50] (July 16, 2018) Chechnya's Dictator Exploited a World Cup Star. What Else Is New?\n",
      "[38 / 50] (July 11, 2018) Why Putin Is Not Okay\n",
      "[39 / 50] (July 11, 2018) Armenia Faces Pitfalls on Its Path to Democracy\n",
      "[40 / 50] (July 9, 2018) The Slippery Slope of Hostility toward the Press\n",
      "[41 / 50] (July 3, 2018) Why the Annulment of a Mayoral Election Is a Blow to Moldova's Democracy\n",
      "[42 / 50] (July 3, 2018) De ce anularea alegerilor primarului este o lovitură aplicată democrației din Moldova\n",
      "Stop scrapping. 0 / 50 news was scrapped\n",
      "The oldest news has been created after 2018-07-01\n"
     ]
    }
   ],
   "source": [
    "from freedomhouse_scraper import yield_latest_allblog\n",
    "\n",
    "begin_date = '2018-07-01'\n",
    "max_num = 50\n",
    "sleep = 1.0\n",
    "\n",
    "for i, json_obj in enumerate(yield_latest_allblog(begin_date, max_num, sleep)):\n",
    "    title = json_obj['title']\n",
    "    time = json_obj['time']\n",
    "    print('[{} / {}] ({}) {}'.format(i+1, max_num, time, title))"
   ]
  },
  {
   "cell_type": "code",
   "execution_count": 1,
   "metadata": {},
   "outputs": [
    {
     "name": "stdout",
     "output_type": "stream",
     "text": [
      "get briefing statement urls 0 / 3\n",
      "get briefing statement urls 1 / 3\n",
      "get briefing statement urls 2 / 3\n",
      "get briefing statement urls 3 / 3\n",
      "28 urls for all news\n",
      "get briefing statement urls 0 / 3\n",
      "get briefing statement urls 1 / 3\n",
      "get briefing statement urls 2 / 3\n",
      "get briefing statement urls 3 / 3\n",
      "40 urls for all news\n"
     ]
    }
   ],
   "source": [
    "import time\n",
    "import freedomhouse_scraper\n",
    "from freedomhouse_scraper import get_PR_urls\n",
    "from freedomhouse_scraper import get_allinit_urls\n",
    "from freedomhouse_scraper import parse_page_news\n",
    "\n",
    "PR_urls = get_PR_urls(begin_page=0, end_page=3, verbose=True)\n",
    "print('%d urls for all news' % len(PR_urls))\n",
    "\n",
    "init_urls = get_allinit_urls(begin_page=0, end_page=3, verbose=True)\n",
    "print('%d urls for all news' % len(init_urls))\n",
    "\n",
    "news_url = PR_urls+init_urls"
   ]
  },
  {
   "cell_type": "code",
   "execution_count": 2,
   "metadata": {},
   "outputs": [
    {
     "name": "stdout",
     "output_type": "stream",
     "text": [
      "title : Angola: New Code Protects LGBTI Community  ..\n",
      "time : January 25, 2019 ..\n",
      "content : Following the Angolan parliament’s adoption of a new Penal Code decriminalizing same-sex activities  ..\n",
      "url : https://freedomhouse.org/article/angola-new-code-protects-lgbti-community ..\n",
      "scrap_time : 2019-01-30 03:30:51 ..\n",
      "\n",
      "\n",
      "title : DRC: African Union Intervenes to Defend Integrity of Presidential Election ..\n",
      "time : January 18, 2019 ..\n",
      "content : In response to the African Union’s call for authorities in the Democratic Republic of the Congo (DRC ..\n",
      "url : https://freedomhouse.org/article/drc-african-union-intervenes-defend-integrity-presidential-election ..\n",
      "scrap_time : 2019-01-30 03:30:51 ..\n",
      "\n",
      "\n",
      "title : Zimbabwe: Government Should Allow Protests, Re-Open Social Media ..\n",
      "time : January 15, 2019 ..\n",
      "content : In response to Zimbabwean authorities’ firing on demonstrators protesting dramatically higher fuel c ..\n",
      "url : https://freedomhouse.org/article/zimbabwe-government-should-allow-protests-re-open-social-media ..\n",
      "scrap_time : 2019-01-30 03:30:51 ..\n",
      "\n",
      "\n"
     ]
    }
   ],
   "source": [
    "def pprint(json_object):\n",
    "    for k, v in json_object.items():\n",
    "        print('{} : {} ..'.format(k, str(v)[:100]))\n",
    "    print('\\n')\n",
    "\n",
    "SLEEP = 0.5\n",
    "\n",
    "for url in PR_urls[:3]:\n",
    "    json_object = parse_page_news(url) \n",
    "    pprint(json_object)"
   ]
  },
  {
   "cell_type": "code",
   "execution_count": 3,
   "metadata": {
    "scrolled": true
   },
   "outputs": [
    {
     "name": "stdout",
     "output_type": "stream",
     "text": [
      "[1 / 50] (January 25, 2019) Angola: New Code Protects LGBTI Community \n",
      "[2 / 50] (January 18, 2019) DRC: African Union Intervenes to Defend Integrity of Presidential Election\n",
      "[3 / 50] (January 15, 2019) Zimbabwe: Government Should Allow Protests, Re-Open Social Media\n",
      "[4 / 50] (January 14, 2019) NGOs Urge US to Cooperate with UN Special Rapporteurs\n",
      "[5 / 50] (January 2, 2019) South Africa Assumes Seat on UN Security Council  \n",
      "[6 / 50] (December 20, 2018) Kazakhstan: Activists, Journalists Harassed on Independence Day\n",
      "[7 / 50] (December 17, 2018) New Analyses Show Ongoing Russian Interference in US Democracy\n",
      "[8 / 50] (December 13, 2018) U.S. Senate Condemns Saudi Crown Prince for Khashoggi Murder\n",
      "[9 / 50] (December 13, 2018) Ethiopia: MCC Recognizes Opportunity for Democratic Reform\n",
      "[10 / 50] (December 7, 2018) Crimea: Release Leading Attorney Detained on Trumped-Up Charges\n",
      "[11 / 50] (November 26, 2018) Ukraine: Rights Must Be Respected During Martial Law\n",
      "[12 / 50] (November 20, 2018) Russia: Interpol Should Not Elect Russian Official as President\n",
      "[13 / 50] (November 18, 2018) Freedom House Urges Trump Administration to Reevaluate U.S.-Saudi Diplomatic Relationship\n",
      "[14 / 50] (November 16, 2018)  Turkey: Halt Crackdown on Civil Society  \n",
      "[15 / 50] (November 5, 2018) 2018网络自由报告：数字极权主义的崛起\n",
      "[16 / 50] (November 5, 2018) 2018網路自由報告：數位極權主義的崛起\n",
      "[17 / 50] (November 5, 2018) Legal Threats to Prominent Civic Activists Grow in Russian-Occupied Crimea\n",
      "[18 / 50] (November 2, 2018) Russia: OSCE States Initiate Investigation into Human Rights Abuses in Chechnya\n",
      "[19 / 50] (November 1, 2018) The Rise of Digital Authoritarianism: Fake news, data collection and the challenge to democracy\n",
      "[20 / 50] (November 1, 2018) Libertad en la Red 2018: El auge del autoritarismo digital\n",
      "[21 / 50] (October 12, 2018) United States: Protesting a ‘Tax’ on Protests\n",
      "[22 / 50] (October 7, 2018) Saudi Arabia: Khashoggi’s Disappearance an Attack on Journalists Worldwide\n",
      "[23 / 50] (October 3, 2018) Ukraine: Address Attacks against Activists and Human Rights Defenders\n",
      "[24 / 50] (September 3, 2018) Myanmar: Government Imprisons Reporters to Hide Atrocities\n",
      "[25 / 50] (August 30, 2018) Russia: New Move toward Accountability for Crimes against LGBT Persons\n",
      "[26 / 50] (August 27, 2018) Myanmar: UN Reports Evidence of “Genocidal Intent” against Minorities\n",
      "[27 / 50] (August 26, 2018) United States: John McCain, Champion of Democracy\n",
      "[28 / 50] (August 21, 2018) Ugandan Authorities Arrest MPs after Campaign Rallies\n",
      "[29 / 50] (August 9, 2018) Freedom House: Michael Chertoff to Lead Board of Trustees\n",
      "[30 / 50] (August 8, 2018) United States: Administration Should Not Tighten Eligibility for Citizenship\n",
      "[31 / 50] (July 16, 2018) United States: Criticism of Allies, Acceptance of Foe Undermines Democracy\n",
      "[32 / 50] (July 13, 2018) Russia: Police Kidnap Chechen LGBT Crackdown Survivor\n",
      "Stop scrapping. 32 / 50 news was scrapped\n",
      "The oldest news has been created after 2018-07-01\n"
     ]
    }
   ],
   "source": [
    "from freedomhouse_scraper import yield_latest_pr\n",
    "\n",
    "begin_date = '2018-07-01'\n",
    "max_num = 50\n",
    "sleep = 1.0\n",
    "\n",
    "for i, json_obj in enumerate(yield_latest_pr(begin_date, max_num, sleep)):\n",
    "    title = json_obj['title']\n",
    "    time = json_obj['time']\n",
    "    print('[{} / {}] ({}) {}'.format(i+1, max_num, time, title))"
   ]
  },
  {
   "cell_type": "code",
   "execution_count": 4,
   "metadata": {},
   "outputs": [
    {
     "name": "stdout",
     "output_type": "stream",
     "text": [
      "[1 / 50] (December 6, 2018) Non-Governmental Organizations in Support of Global EU Human Rights Sanctions Regime\n",
      "[2 / 50] (November 27, 2018) Human Rights Defenders are a Cornerstone of Sustainable Development\n",
      "[3 / 50] (October 19, 2018) Freedom House Urges President Trump to Take Strong Stand on Khashoggi Murder\n",
      "[4 / 50] (September 28, 2018) China’s Cyber Superpower Strategy: Implementation,  Internet Freedom Implications, and U.S. Responses\n",
      "[5 / 50] (September 28, 2018) Reform in Ethiopia: Turning Promise into Progress\n",
      "[6 / 50] (September 27, 2018) Joint Statement: Civil society condemns the wrongful conviction of Cambodian human rights defenders\n",
      "[7 / 50] (September 12, 2018) The Systematic Repression of Lawyers in Central Asia and Eastern Europe\n",
      "[8 / 50] (July 10, 2018) Dear President Trump: Defend American Democratic Values in Meeting with Putin\n",
      "Stop scrapping. 8 / 50 news was scrapped\n",
      "The oldest news has been created after 2018-07-01\n"
     ]
    }
   ],
   "source": [
    "from freedomhouse_scraper import yield_latest_init\n",
    "\n",
    "begin_date = '2018-07-01'\n",
    "max_num = 50\n",
    "sleep = 1.0\n",
    "\n",
    "for i, json_obj in enumerate(yield_latest_init(begin_date, max_num, sleep)):\n",
    "    title = json_obj['title']\n",
    "    time = json_obj['time']\n",
    "    print('[{} / {}] ({}) {}'.format(i+1, max_num, time, title))"
   ]
  }
 ],
 "metadata": {
  "kernelspec": {
   "display_name": "Python 3",
   "language": "python",
   "name": "python3"
  },
  "language_info": {
   "codemirror_mode": {
    "name": "ipython",
    "version": 3
   },
   "file_extension": ".py",
   "mimetype": "text/x-python",
   "name": "python",
   "nbconvert_exporter": "python",
   "pygments_lexer": "ipython3",
   "version": "3.6.5"
  },
  "varInspector": {
   "cols": {
    "lenName": 16,
    "lenType": 16,
    "lenVar": 40
   },
   "kernels_config": {
    "python": {
     "delete_cmd_postfix": "",
     "delete_cmd_prefix": "del ",
     "library": "var_list.py",
     "varRefreshCmd": "print(var_dic_list())"
    },
    "r": {
     "delete_cmd_postfix": ") ",
     "delete_cmd_prefix": "rm(",
     "library": "var_list.r",
     "varRefreshCmd": "cat(var_dic_list()) "
    }
   },
   "types_to_exclude": [
    "module",
    "function",
    "builtin_function_or_method",
    "instance",
    "_Feature"
   ],
   "window_display": true
  }
 },
 "nbformat": 4,
 "nbformat_minor": 2
}
