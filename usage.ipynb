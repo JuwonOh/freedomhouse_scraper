{
 "cells": [
  {
   "cell_type": "code",
   "execution_count": 1,
   "metadata": {
    "scrolled": true
   },
   "outputs": [
    {
     "name": "stdout",
     "output_type": "stream",
     "text": [
      "get briefing blog statement urls 0 / 2\n",
      "get briefing blog statement urls 1 / 2\n",
      "get briefing blog statement urls 2 / 2\n",
      "30 urls for all news\n"
     ]
    }
   ],
   "source": [
    "import time\n",
    "import freedomhouse_scraper\n",
    "from freedomhouse_scraper import get_allblog_urls\n",
    "from freedomhouse_scraper import parse_page_blog\n",
    "\n",
    "blog_urls = get_allblog_urls(begin_page=0, end_page=2, verbose=True)\n",
    "print('%d urls for all news' % len(blog_urls))"
   ]
  },
  {
   "cell_type": "code",
   "execution_count": 2,
   "metadata": {
    "scrolled": true
   },
   "outputs": [
    {
     "name": "stdout",
     "output_type": "stream",
     "text": [
      "title : Moldovan Democracy Faces Risks after Inconclusive Elections ..\n",
      "time : 2019-02-28 00:00:00 ..\n",
      "content : \n",
      "Newcomers made surprising gains after a flawed process, but entrenched incumbents may hang on to th ..\n",
      "url : https://freedomhouse.org/blog/moldovan-democracy-faces-risks-after-inconclusive-elections ..\n",
      "author : by Gina S. Lentine, Senior Program Officer, Europe & Eurasia ..\n",
      "scrap_time : 2019-03-11 13:25:38 ..\n",
      "\n",
      "\n",
      "title : As Global Democracy Retreats, Ethnic Cleansing Is on the Rise ..\n",
      "time : 2019-02-25 00:00:00 ..\n",
      "content : Ethnic cleansing, a staple of geopolitical crises in the 1990s, is making a comeback. According to F ..\n",
      "url : https://freedomhouse.org/blog/global-democracy-retreats-ethnic-cleansing-rise ..\n",
      "author : Michael J. Abramowitz, President of Freedom House, and Arch Puddington, Distinguished Fellow for Dem ..\n",
      "scrap_time : 2019-03-11 13:25:39 ..\n",
      "\n",
      "\n",
      "title : A Change in Strategy Has Helped Venezuela’s Opposition Gain Traction ..\n",
      "time : 2019-02-19 00:00:00 ..\n",
      "content : Certain aspects of the Maduro regime, or possible missteps by the US, could thwart a positive outcom ..\n",
      "url : https://freedomhouse.org/blog/change-strategy-has-helped-venezuela-s-opposition-gain-traction ..\n",
      "author : Volunteers of the movement 'Aid and Freedom Venezuela Coalition' attend a rally led by Venezuelan op ..\n",
      "scrap_time : 2019-03-11 13:25:39 ..\n",
      "\n",
      "\n",
      "title : Elections in Togo: What Happens When the World Isn’t Watching ..\n",
      "time : 2019-01-28 00:00:00 ..\n",
      "content : Aided by weak regional oversight, the president may be getting away with a power grab.\n",
      "With much of  ..\n",
      "url : https://freedomhouse.org/blog/elections-togo-what-happens-when-world-isn-t-watching ..\n",
      "author : by Nick Bailey, Senior Program Associate, Africa ..\n",
      "scrap_time : 2019-03-11 13:25:39 ..\n",
      "\n",
      "\n",
      "title : Has Mirziyoyev Really Brought Religious Liberty to Uzbekistan?  ..\n",
      "time : 2019-01-16 00:00:00 ..\n",
      "content : The president has touted his reform agenda, but religious persecution continues in practice.\n",
      "Since t ..\n",
      "url : https://freedomhouse.org/blog/has-mirziyoyev-really-brought-religious-liberty-uzbekistan ..\n",
      "author : by D.E., Eurasia Researcher ..\n",
      "scrap_time : 2019-03-11 13:25:39 ..\n",
      "\n",
      "\n",
      "title : In Uzbekistan, the Seeds of Reform Are Planted in Social Media ..\n",
      "time : 2019-01-10 00:00:00 ..\n",
      "content : The online mobilization of public opinion is a potential express lane to democratic change.\n",
      "On Septe ..\n",
      "url : https://freedomhouse.org/blog/uzbekistan-seeds-reform-are-planted-social-media ..\n",
      "author : by James Reston, Guest Blogger ..\n",
      "scrap_time : 2019-03-11 13:25:39 ..\n",
      "\n",
      "\n",
      "title : The Western Sahara Dispute Drags On after 27 Years in Limbo ..\n",
      "time : 2019-01-09 00:00:00 ..\n",
      "content : The latest peace talks have made little progress so far, but the territory may be running out of tim ..\n",
      "url : https://freedomhouse.org/blog/western-sahara-dispute-drags-after-27-years-limbo ..\n",
      "author : by Daniel Samet, Guest Blogger ..\n",
      "scrap_time : 2019-03-11 13:25:39 ..\n",
      "\n",
      "\n",
      "title : Now Streaming: Censorship ..\n",
      "time : 2019-01-03 00:00:00 ..\n",
      "content : How should companies like Netflix respond when repressive governments order the removal of critical  ..\n",
      "url : https://freedomhouse.org/blog/now-streaming-censorship ..\n",
      "author : by Allie Funk, Research Analyst, Freedom on the Net ..\n",
      "scrap_time : 2019-03-11 13:25:39 ..\n",
      "\n",
      "\n",
      "title : Political Intrigue Surrounds Presidential Succession Plans in Kenya ..\n",
      "time : 2018-12-20 00:00:00 ..\n",
      "content : A possible plot to subvert term limits could shape the future of democracy in the country.\n",
      "Just what ..\n",
      "url : https://freedomhouse.org/blog/political-intrigue-surrounds-presidential-succession-plans-kenya ..\n",
      "author : by Morris Odhiambo, Project Director for East and Horn of Africa ..\n",
      "scrap_time : 2019-03-11 13:25:39 ..\n",
      "\n",
      "\n",
      "title : The Globalization of Beijing's Media Controls: Key Trends from 2018 ..\n",
      "time : 2018-12-19 00:00:00 ..\n",
      "content : Check out these five key trends in the Chinese Communist Party’s global media campaign, fresh from t ..\n",
      "url : https://freedomhouse.org/blog/globalization-beijings-media-controls-key-trends-2018 ..\n",
      "author : by Sarah Cook, Senior Research Analyst for East Asia ..\n",
      "scrap_time : 2019-03-11 13:25:39 ..\n",
      "\n",
      "\n"
     ]
    }
   ],
   "source": [
    "def pprint(json_object):\n",
    "    for k, v in json_object.items():\n",
    "        print('{} : {} ..'.format(k, str(v)[:100]))\n",
    "    print('\\n')\n",
    "\n",
    "SLEEP = 0.5\n",
    "\n",
    "for url in blog_urls[:10]:\n",
    "    json_object = parse_page_blog(url) \n",
    "    pprint(json_object)\n",
    "    \n"
   ]
  },
  {
   "cell_type": "code",
   "execution_count": 3,
   "metadata": {
    "scrolled": true
   },
   "outputs": [
    {
     "name": "stdout",
     "output_type": "stream",
     "text": [
      "[1 / 50] (2019-02-28 00:00:00) Moldovan Democracy Faces Risks after Inconclusive Elections\n",
      "[2 / 50] (2019-02-25 00:00:00) As Global Democracy Retreats, Ethnic Cleansing Is on the Rise\n",
      "[3 / 50] (2019-02-19 00:00:00) A Change in Strategy Has Helped Venezuela’s Opposition Gain Traction\n",
      "[4 / 50] (2019-01-28 00:00:00) Elections in Togo: What Happens When the World Isn’t Watching\n",
      "[5 / 50] (2019-01-16 00:00:00) Has Mirziyoyev Really Brought Religious Liberty to Uzbekistan? \n",
      "[6 / 50] (2019-01-10 00:00:00) In Uzbekistan, the Seeds of Reform Are Planted in Social Media\n",
      "[7 / 50] (2019-01-09 00:00:00) The Western Sahara Dispute Drags On after 27 Years in Limbo\n",
      "[8 / 50] (2019-01-03 00:00:00) Now Streaming: Censorship\n",
      "[9 / 50] (2018-12-20 00:00:00) Political Intrigue Surrounds Presidential Succession Plans in Kenya\n",
      "[10 / 50] (2018-12-19 00:00:00) The Globalization of Beijing's Media Controls: Key Trends from 2018\n",
      "[11 / 50] (2018-12-13 00:00:00) Can Cuba’s Human Rights Legacy Be Recovered?\n",
      "[12 / 50] (2018-12-06 00:00:00) Germany Prepares for a Post-Merkel Future\n",
      "[13 / 50] (2018-11-19 00:00:00) With New Members, the UN Human Rights Council Goes from Bad to Worse\n",
      "[14 / 50] (2018-11-15 00:00:00) Sri Lanka’s Democracy Hangs in the Balance after ‘Coup Attempt’\n",
      "[15 / 50] (2018-11-13 00:00:00) Nigeria Heads for Elections in February, but Governance Is the Real Challenge\n",
      "[16 / 50] (2018-11-07 00:00:00) A Grim Reality for Internet Freedom in Asia\n",
      "[17 / 50] (2018-11-01 00:00:00) Amid U.S.-China Tension, Beijing’s Propaganda Machine Charges On\n",
      "[18 / 50] (2018-10-25 00:00:00) A Saudi Shia Woman Faces Death for Her Activism\n",
      "[19 / 50] (2018-10-24 00:00:00) Are Brazilians Ready to Bet on Bolsonaro?\n",
      "[20 / 50] (2018-10-23 00:00:00) Cameroon’s Aging Leader Seizes Another Seven-Year Term\n",
      "[21 / 50] (2018-10-17 00:00:00) Violence against Journalists Is a Transnational Enterprise\n",
      "[22 / 50] (2018-10-04 00:00:00) Foreign Policy Gains Will Not Erase Public Distrust in Macedonia\n",
      "[23 / 50] (2018-09-27 00:00:00) Is the Beijing Exception Finally Crumbling?\n",
      "[24 / 50] (2018-09-20 00:00:00) Montenegro, an EU Accession Front-Runner, Moves Backward on Media Freedom\n",
      "[25 / 50] (2018-09-11 00:00:00) Nicaragua’s New Terrorism Law Is Aimed at Protesters\n",
      "[26 / 50] (2018-09-11 00:00:00) Nueva Ley Anti-Terrorismo de Nicaragua Está Dirigida Hacia los Manifestantes \n",
      "[27 / 50] (2018-09-10 00:00:00) Q&A: Populist Gains in the Swedish Elections\n",
      "[28 / 50] (2018-09-05 00:00:00) Romania’s Attack on the Rule of Law Is Personal, Not Ideological\n",
      "[29 / 50] (2018-09-04 00:00:00) As Elections Near, Bosnia’s Fractured Media May Do More Harm Than Good\n",
      "[30 / 50] (2018-08-30 00:00:00) Occupied Crimea: Victims and Oppressors\n",
      "[31 / 50] (2018-08-23 00:00:00) Fifty Years On, the Challenges of 1968 Linger\n",
      "[32 / 50] (2018-08-22 00:00:00) In Algeria, an Islamist Threat Still Looms over Domestic Politics\n",
      "[33 / 50] (2018-08-17 00:00:00) How Lies about History Threaten Democracy Today\n",
      "[34 / 50] (2018-08-16 00:00:00) How India’s Assam Register Is Weaponizing Citizenship\n",
      "[35 / 50] (2018-08-06 00:00:00) Iraqi Kurdistan’s Upcoming Elections Could Deliver a Shock to the Middle East\n",
      "[36 / 50] (2018-07-26 00:00:00) China: The Global Leader in Political Prisoners\n",
      "[37 / 50] (2018-07-24 00:00:00) Colombia’s FARC Faces a Complex Path from Insurgency to Politics\n",
      "[38 / 50] (2018-07-18 00:00:00) Putin's Steering-Wheel Problem\n",
      "[39 / 50] (2018-07-17 00:00:00) No More Excuses for Eritrea\n",
      "[40 / 50] (2018-07-16 00:00:00) Chechnya's Dictator Exploited a World Cup Star. What Else Is New?\n",
      "[41 / 50] (2018-07-11 00:00:00) Why Putin Is Not Okay\n",
      "[42 / 50] (2018-07-11 00:00:00) Armenia Faces Pitfalls on Its Path to Democracy\n",
      "[43 / 50] (2018-07-09 00:00:00) The Slippery Slope of Hostility toward the Press\n",
      "[44 / 50] (2018-07-03 00:00:00) Why the Annulment of a Mayoral Election Is a Blow to Moldova's Democracy\n",
      "[45 / 50] (2018-07-03 00:00:00) De ce anularea alegerilor primarului este o lovitură aplicată democrației din Moldova\n",
      "Stop scrapping. 0 / 50 blog category was scrapped\n",
      "The oldest blog category has been created after 2018-07-01\n"
     ]
    }
   ],
   "source": [
    "from freedomhouse_scraper import yield_latest_allblog\n",
    "\n",
    "begin_date = '2018-07-01'\n",
    "max_num = 50\n",
    "sleep = 1.0\n",
    "\n",
    "for i, json_obj in enumerate(yield_latest_allblog(begin_date, max_num, sleep)):\n",
    "    title = json_obj['title']\n",
    "    time = json_obj['time']\n",
    "    print('[{} / {}] ({}) {}'.format(i+1, max_num, time, title))"
   ]
  },
  {
   "cell_type": "code",
   "execution_count": 4,
   "metadata": {
    "scrolled": true
   },
   "outputs": [
    {
     "name": "stdout",
     "output_type": "stream",
     "text": [
      "get briefing pressrelease statement urls 0 / 3\n",
      "get briefing pressrelease statement urls 1 / 3\n",
      "get briefing pressrelease statement urls 2 / 3\n",
      "get briefing pressrelease statement urls 3 / 3\n",
      "28 urls for all news\n",
      "get briefing initiatives statement urls 0 / 3\n",
      "get briefing initiatives statement urls 1 / 3\n",
      "get briefing initiatives statement urls 2 / 3\n",
      "get briefing initiatives statement urls 3 / 3\n",
      "40 urls for all news\n"
     ]
    }
   ],
   "source": [
    "import time\n",
    "import freedomhouse_scraper\n",
    "from freedomhouse_scraper import get_PR_urls\n",
    "from freedomhouse_scraper import get_allinit_urls\n",
    "from freedomhouse_scraper import parse_page_news\n",
    "\n",
    "PR_urls = get_PR_urls(begin_page=0, end_page=3, verbose=True)\n",
    "print('%d urls for all news' % len(PR_urls))\n",
    "\n",
    "init_urls = get_allinit_urls(begin_page=0, end_page=3, verbose=True)\n",
    "print('%d urls for all news' % len(init_urls))\n",
    "\n",
    "news_url = PR_urls+init_urls"
   ]
  },
  {
   "cell_type": "code",
   "execution_count": 5,
   "metadata": {},
   "outputs": [
    {
     "name": "stdout",
     "output_type": "stream",
     "text": [
      "title : US Act Would Address Corruption in Guatemala ..\n",
      "time : 2019-03-08 00:00:00 ..\n",
      "content : In response to the introduction of the Guatemala Rule of Law Accountability Act of 2019 in the Unite ..\n",
      "url : https://freedomhouse.org/article/act-would-address-corruption-guatemala-1 ..\n",
      "scrap_time : 2019-03-11 13:25:50 ..\n",
      "\n",
      "\n",
      "title : Leaked Documents Reveal United States Customs and Border Protection Kept Troubling Surveillance  ..\n",
      "time : 2019-03-07 00:00:00 ..\n",
      "content : In response to media reports that the US Customs and Border Protection agency created a secret datab ..\n",
      "url : https://freedomhouse.org/article/leaked-documents-reveal-united-states-customs-and-border-protection ..\n",
      "scrap_time : 2019-03-11 13:25:50 ..\n",
      "\n",
      "\n",
      "title : Iran: Nasrin Sotoudeh Should Be Released Immediately and Unconditionally ..\n",
      "time : 2019-03-07 00:00:00 ..\n",
      "content : In response to reports that a verdict may have been issued against prominent Iranian human rights la ..\n",
      "url : https://freedomhouse.org/article/nasrin-sotoudeh-should-be-released-immediately-and-unconditionally ..\n",
      "scrap_time : 2019-03-11 13:25:50 ..\n",
      "\n",
      "\n"
     ]
    }
   ],
   "source": [
    "def pprint(json_object):\n",
    "    for k, v in json_object.items():\n",
    "        print('{} : {} ..'.format(k, str(v)[:100]))\n",
    "    print('\\n')\n",
    "\n",
    "SLEEP = 0.5\n",
    "\n",
    "for url in PR_urls[:3]:\n",
    "    json_object = parse_page_news(url) \n",
    "    pprint(json_object)"
   ]
  },
  {
   "cell_type": "code",
   "execution_count": 6,
   "metadata": {
    "scrolled": true
   },
   "outputs": [
    {
     "name": "stdout",
     "output_type": "stream",
     "text": [
      "[1 / 50] (2019-03-08 00:00:00) US Act Would Address Corruption in Guatemala\n",
      "[2 / 50] (2019-03-07 00:00:00) Leaked Documents Reveal United States Customs and Border Protection Kept Troubling Surveillance \n",
      "[3 / 50] (2019-03-07 00:00:00) Iran: Nasrin Sotoudeh Should Be Released Immediately and Unconditionally\n",
      "[4 / 50] (2019-02-26 00:00:00) Ukrainian Commission Must Continue Investigating Attacks on Civic Activists\n",
      "[5 / 50] (2019-02-21 00:00:00) Nicaragua: Farmworker Leaders Sentenced to Steep Prison Terms for Protests\n",
      "[6 / 50] (2019-02-20 00:00:00) Turkey: Shocking Indictment against Civil Society\n",
      "[7 / 50] (2019-02-13 00:00:00) Philippines: Government Should Release Journalist and Cease Attacks on the Media \n",
      "[8 / 50] (2019-02-09 00:00:00) Ethiopia: Civil Society Proclamation Advances Essential Freedoms\n",
      "[9 / 50] (2019-02-05 00:00:00) Democracia en retirada: La libertad en el mundo 2019\n",
      "[10 / 50] (2019-02-04 00:00:00) NEW REPORT: Freedom in the World 2019,  featuring Special Release on United States\n",
      "[11 / 50] (2019-01-25 00:00:00) Angola: New Code Protects LGBTI Community \n",
      "[12 / 50] (2019-01-18 00:00:00) DRC: African Union Intervenes to Defend Integrity of Presidential Election\n",
      "[13 / 50] (2019-01-15 00:00:00) Zimbabwe: Government Should Allow Protests, Re-Open Social Media\n",
      "[14 / 50] (2019-01-14 00:00:00) NGOs Urge US to Cooperate with UN Special Rapporteurs\n",
      "[15 / 50] (2019-01-02 00:00:00) South Africa Assumes Seat on UN Security Council  \n",
      "[16 / 50] (2018-12-20 00:00:00) Kazakhstan: Activists, Journalists Harassed on Independence Day\n",
      "[17 / 50] (2018-12-17 00:00:00) New Analyses Show Ongoing Russian Interference in US Democracy\n",
      "[18 / 50] (2018-12-13 00:00:00) U.S. Senate Condemns Saudi Crown Prince for Khashoggi Murder\n",
      "[19 / 50] (2018-12-13 00:00:00) Ethiopia: MCC Recognizes Opportunity for Democratic Reform\n",
      "[20 / 50] (2018-12-07 00:00:00) Crimea: Release Leading Attorney Detained on Trumped-Up Charges\n",
      "[21 / 50] (2018-11-26 00:00:00) Ukraine: Rights Must Be Respected During Martial Law\n",
      "[22 / 50] (2018-11-20 00:00:00) Russia: Interpol Should Not Elect Russian Official as President\n",
      "[23 / 50] (2018-11-18 00:00:00) Freedom House Urges Trump Administration to Reevaluate U.S.-Saudi Diplomatic Relationship\n",
      "[24 / 50] (2018-11-16 00:00:00)  Turkey: Halt Crackdown on Civil Society  \n",
      "[25 / 50] (2018-11-05 00:00:00) 2018网络自由报告：数字极权主义的崛起\n",
      "[26 / 50] (2018-11-05 00:00:00) 2018網路自由報告：數位極權主義的崛起\n",
      "[27 / 50] (2018-11-05 00:00:00) Legal Threats to Prominent Civic Activists Grow in Russian-Occupied Crimea\n",
      "[28 / 50] (2018-11-02 00:00:00) Russia: OSCE States Initiate Investigation into Human Rights Abuses in Chechnya\n",
      "[29 / 50] (2018-11-01 00:00:00) The Rise of Digital Authoritarianism: Fake news, data collection and the challenge to democracy\n",
      "[30 / 50] (2018-11-01 00:00:00) Libertad en la Red 2018: El auge del autoritarismo digital\n",
      "[31 / 50] (2018-10-12 00:00:00) United States: Protesting a ‘Tax’ on Protests\n",
      "[32 / 50] (2018-10-07 00:00:00) Saudi Arabia: Khashoggi’s Disappearance an Attack on Journalists Worldwide\n",
      "[33 / 50] (2018-10-03 00:00:00) Ukraine: Address Attacks against Activists and Human Rights Defenders\n",
      "[34 / 50] (2018-09-03 00:00:00) Myanmar: Government Imprisons Reporters to Hide Atrocities\n",
      "[35 / 50] (2018-08-30 00:00:00) Russia: New Move toward Accountability for Crimes against LGBT Persons\n",
      "[36 / 50] (2018-08-27 00:00:00) Myanmar: UN Reports Evidence of “Genocidal Intent” against Minorities\n",
      "[37 / 50] (2018-08-26 00:00:00) United States: John McCain, Champion of Democracy\n",
      "[38 / 50] (2018-08-21 00:00:00) Ugandan Authorities Arrest MPs after Campaign Rallies\n",
      "[39 / 50] (2018-08-09 00:00:00) Freedom House: Michael Chertoff to Lead Board of Trustees\n",
      "[40 / 50] (2018-08-08 00:00:00) United States: Administration Should Not Tighten Eligibility for Citizenship\n",
      "[41 / 50] (2018-07-16 00:00:00) United States: Criticism of Allies, Acceptance of Foe Undermines Democracy\n",
      "[42 / 50] (2018-07-13 00:00:00) Russia: Police Kidnap Chechen LGBT Crackdown Survivor\n",
      "Stop scrapping. 42 / 50 pressrelease category was scrapped\n",
      "The oldest pressrelease category has been created after 2018-07-01\n"
     ]
    }
   ],
   "source": [
    "from freedomhouse_scraper import yield_latest_pr\n",
    "\n",
    "begin_date = '2018-07-01'\n",
    "max_num = 50\n",
    "sleep = 1.0\n",
    "\n",
    "for i, json_obj in enumerate(yield_latest_pr(begin_date, max_num, sleep)):\n",
    "    title = json_obj['title']\n",
    "    time = json_obj['time']\n",
    "    print('[{} / {}] ({}) {}'.format(i+1, max_num, time, title))"
   ]
  },
  {
   "cell_type": "code",
   "execution_count": 7,
   "metadata": {},
   "outputs": [
    {
     "name": "stdout",
     "output_type": "stream",
     "text": [
      "[1 / 50] (2019-02-13 00:00:00) Joint Statement calling for Xinjiang Resolution at the United Nations Human Rights Council \n",
      "[2 / 50] (2018-12-06 00:00:00) Non-Governmental Organizations in Support of Global EU Human Rights Sanctions Regime\n",
      "[3 / 50] (2018-11-27 00:00:00) Human Rights Defenders are a Cornerstone of Sustainable Development\n",
      "[4 / 50] (2018-10-19 00:00:00) Freedom House Urges President Trump to Take Strong Stand on Khashoggi Murder\n",
      "[5 / 50] (2018-09-28 00:00:00) China’s Cyber Superpower Strategy: Implementation,  Internet Freedom Implications, and U.S. Responses\n",
      "[6 / 50] (2018-09-28 00:00:00) Reform in Ethiopia: Turning Promise into Progress\n",
      "[7 / 50] (2018-09-27 00:00:00) Joint Statement: Civil society condemns the wrongful conviction of Cambodian human rights defenders\n",
      "[8 / 50] (2018-09-12 00:00:00) The Systematic Repression of Lawyers in Central Asia and Eastern Europe\n",
      "[9 / 50] (2018-07-10 00:00:00) Dear President Trump: Defend American Democratic Values in Meeting with Putin\n",
      "Stop scrapping. 9 / 50 initiatives category was scrapped\n",
      "The oldest initiatives category has been created after 2018-07-01\n"
     ]
    }
   ],
   "source": [
    "from freedomhouse_scraper import yield_latest_init\n",
    "\n",
    "begin_date = '2018-07-01'\n",
    "max_num = 50\n",
    "sleep = 1.0\n",
    "\n",
    "for i, json_obj in enumerate(yield_latest_init(begin_date, max_num, sleep)):\n",
    "    title = json_obj['title']\n",
    "    time = json_obj['time']\n",
    "    print('[{} / {}] ({}) {}'.format(i+1, max_num, time, title))"
   ]
  }
 ],
 "metadata": {
  "kernelspec": {
   "display_name": "Python 3",
   "language": "python",
   "name": "python3"
  },
  "language_info": {
   "codemirror_mode": {
    "name": "ipython",
    "version": 3
   },
   "file_extension": ".py",
   "mimetype": "text/x-python",
   "name": "python",
   "nbconvert_exporter": "python",
   "pygments_lexer": "ipython3",
   "version": "3.7.1"
  },
  "varInspector": {
   "cols": {
    "lenName": 16,
    "lenType": 16,
    "lenVar": 40
   },
   "kernels_config": {
    "python": {
     "delete_cmd_postfix": "",
     "delete_cmd_prefix": "del ",
     "library": "var_list.py",
     "varRefreshCmd": "print(var_dic_list())"
    },
    "r": {
     "delete_cmd_postfix": ") ",
     "delete_cmd_prefix": "rm(",
     "library": "var_list.r",
     "varRefreshCmd": "cat(var_dic_list()) "
    }
   },
   "types_to_exclude": [
    "module",
    "function",
    "builtin_function_or_method",
    "instance",
    "_Feature"
   ],
   "window_display": true
  }
 },
 "nbformat": 4,
 "nbformat_minor": 2
}
