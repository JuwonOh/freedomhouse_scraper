{
 "cells": [
  {
   "cell_type": "code",
   "execution_count": 2,
   "metadata": {
    "scrolled": false
   },
   "outputs": [
    {
     "name": "stdout",
     "output_type": "stream",
     "text": [
      "get briefing statement urls 0 / 3\n",
      "get briefing statement urls 1 / 3\n",
      "get briefing statement urls 2 / 3\n",
      "get briefing statement urls 3 / 3\n",
      "40 urls for all news\n"
     ]
    }
   ],
   "source": [
    "import time\n",
    "import freedomhouse_scraper\n",
    "from freedomhouse_scraper import get_allblog_urls\n",
    "from freedomhouse_scraper import parse_page\n",
    "\n",
    "blog_urls = get_allblog_urls(begin_page=0, end_page=3, verbose=True)\n",
    "print('%d urls for all news' % len(blog_urls))\n"
   ]
  },
  {
   "cell_type": "code",
   "execution_count": 4,
   "metadata": {
    "scrolled": true
   },
   "outputs": [
    {
     "name": "stdout",
     "output_type": "stream",
     "text": [
      "title : A Grim Reality for Internet Freedom in Asia ..\n",
      "time : November 7, 2018 ..\n",
      "content : The region is a driving force behind annual declines at the global level.\n",
      "Global internet freedom ha ..\n",
      "url : https://freedomhouse.org/blog/grim-reality-internet-freedom-asia ..\n",
      "scrap_time : 2019-01-24 03:03:33 ..\n",
      "\n",
      "\n",
      "title : No More Excuses for Eritrea ..\n",
      "time : July 17, 2018 ..\n",
      "content : by Isabel Linzer, Research Associate, Freedom in the World\n",
      "Now that peace with Ethiopia is official, ..\n",
      "url : https://freedomhouse.org/blog/no-more-excuses-eritrea ..\n",
      "scrap_time : 2019-01-24 03:03:33 ..\n",
      "\n",
      "\n",
      "title : Why Putin Is Not Okay ..\n",
      "time : July 11, 2018 ..\n",
      "content :  \n",
      "A few reminders of the Russian dictator’s track record as President Trump heads to his summit in F ..\n",
      "url : https://freedomhouse.org/blog/why-putin-not-okay ..\n",
      "scrap_time : 2019-01-24 03:03:33 ..\n",
      "\n",
      "\n"
     ]
    }
   ],
   "source": [
    "def pprint(json_object):\n",
    "    for k, v in json_object.items():\n",
    "        print('{} : {} ..'.format(k, str(v)[:100]))\n",
    "    print('\\n')\n",
    "\n",
    "SLEEP = 0.5\n",
    "\n",
    "for url in blog_urls[:3]:\n",
    "    json_object = parse_page(url) \n",
    "    pprint(json_object)"
   ]
  },
  {
   "cell_type": "code",
   "execution_count": 8,
   "metadata": {},
   "outputs": [
    {
     "name": "stdout",
     "output_type": "stream",
     "text": [
      "[1 / 50] (November 7, 2018) A Grim Reality for Internet Freedom in Asia\n",
      "[2 / 50] (July 17, 2018) No More Excuses for Eritrea\n",
      "[3 / 50] (July 11, 2018) Why Putin Is Not Okay\n",
      "[4 / 50] (July 9, 2018) The Slippery Slope of Hostility toward the Press\n",
      "Stop scrapping. 0 / 50 news was scrapped\n",
      "The oldest news has been created after 2018-07-01\n"
     ]
    }
   ],
   "source": [
    "from freedomhouse_scraper import yield_latest_allblog\n",
    "\n",
    "begin_date = '2018-07-01'\n",
    "max_num = 50\n",
    "sleep = 1.0\n",
    "\n",
    "for i, json_obj in enumerate(yield_latest_allblog(begin_date, max_num, sleep)):\n",
    "    title = json_obj['title']\n",
    "    time = json_obj['time']\n",
    "    print('[{} / {}] ({}) {}'.format(i+1, max_num, time, title))"
   ]
  }
 ],
 "metadata": {
  "kernelspec": {
   "display_name": "Python 3",
   "language": "python",
   "name": "python3"
  },
  "language_info": {
   "codemirror_mode": {
    "name": "ipython",
    "version": 3
   },
   "file_extension": ".py",
   "mimetype": "text/x-python",
   "name": "python",
   "nbconvert_exporter": "python",
   "pygments_lexer": "ipython3",
   "version": "3.6.5"
  },
  "varInspector": {
   "cols": {
    "lenName": 16,
    "lenType": 16,
    "lenVar": 40
   },
   "kernels_config": {
    "python": {
     "delete_cmd_postfix": "",
     "delete_cmd_prefix": "del ",
     "library": "var_list.py",
     "varRefreshCmd": "print(var_dic_list())"
    },
    "r": {
     "delete_cmd_postfix": ") ",
     "delete_cmd_prefix": "rm(",
     "library": "var_list.r",
     "varRefreshCmd": "cat(var_dic_list()) "
    }
   },
   "types_to_exclude": [
    "module",
    "function",
    "builtin_function_or_method",
    "instance",
    "_Feature"
   ],
   "window_display": true
  }
 },
 "nbformat": 4,
 "nbformat_minor": 2
}
